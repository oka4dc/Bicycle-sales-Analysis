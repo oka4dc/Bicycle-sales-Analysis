{
 "cells": [
  {
   "cell_type": "code",
   "execution_count": 1,
   "metadata": {},
   "outputs": [],
   "source": [
    "#About PostgreSQL\n",
    "#We can access the database using the PGAdmin app or the command line[SQL Shell]\n"
   ]
  },
  {
   "cell_type": "code",
   "execution_count": 2,
   "metadata": {},
   "outputs": [],
   "source": [
    "# Using the SQL command line\n",
    "# 1. Open the SQL command line\n",
    "# 2. Press enter-enter and finally enter your password\n",
    "# You are good to GO"
   ]
  },
  {
   "cell_type": "code",
   "execution_count": 7,
   "metadata": {},
   "outputs": [],
   "source": [
    "# List of Hot Keys\n",
    "# help >> other sub commands\n",
    "# \\l --- list all of the data base\n",
    "# \\? ----\n",
    "import pandas as pd\n",
    "pd.DataFrame?\n"
   ]
  },
  {
   "cell_type": "code",
   "execution_count": 8,
   "metadata": {},
   "outputs": [],
   "source": [
    "#To Create a data base we use the key word CREATE DATABASE Student_score\n",
    "import numpy as np\n",
    "result = 0\n",
    "for i in range(100):\n",
    "    result += i\n",
    "\n",
    "\n"
   ]
  },
  {
   "cell_type": "code",
   "execution_count": null,
   "metadata": {},
   "outputs": [],
   "source": [
    "# How to connect to a data base\n",
    "#how to connect to a database: \\c database name\n",
    "# to delect a database: Drop database d_name"
   ]
  },
  {
   "cell_type": "code",
   "execution_count": 8,
   "metadata": {},
   "outputs": [
    {
     "ename": "SyntaxError",
     "evalue": "invalid syntax (<ipython-input-8-610337fa0efb>, line 2)",
     "output_type": "error",
     "traceback": [
      "\u001b[1;36m  File \u001b[1;32m\"<ipython-input-8-610337fa0efb>\"\u001b[1;36m, line \u001b[1;32m2\u001b[0m\n\u001b[1;33m    CREATE TABLE table_name {\u001b[0m\n\u001b[1;37m           ^\u001b[0m\n\u001b[1;31mSyntaxError\u001b[0m\u001b[1;31m:\u001b[0m invalid syntax\n"
     ]
    }
   ],
   "source": [
    "#How to create a table in Postgresql\n",
    "CREATE TABLE table_name {\n",
    "    Column name + data type\n",
    "    \n",
    "}"
   ]
  },
  {
   "cell_type": "code",
   "execution_count": 1,
   "metadata": {},
   "outputs": [],
   "source": [
    "import pandas as pd\n",
    "import numpy as np"
   ]
  },
  {
   "cell_type": "code",
   "execution_count": null,
   "metadata": {},
   "outputs": [],
   "source": [
    "names = ['Bob','Jessica','Mary','John','Mel']\n",
    "grades = [76,95,77,78,99]\n",
    "bsdegrees = [1,1,0,0,1]\n",
    "msdegrees = [2,1,0,0,0]\n",
    "phddegrees = [0,1,0,0,0]"
   ]
  },
  {
   "cell_type": "code",
   "execution_count": null,
   "metadata": {},
   "outputs": [],
   "source": [
    "bdates = ['1/1/1945','10/21/76','3/3/90',\n",
    "'04/30/1901','1963-09-01']"
   ]
  },
  {
   "cell_type": "code",
   "execution_count": null,
   "metadata": {},
   "outputs": [],
   "source": [
    "GradeList = zip(names,grades,bsdegrees,msdegrees,\n",
    "phddegrees,bdates)"
   ]
  },
  {
   "cell_type": "code",
   "execution_count": null,
   "metadata": {},
   "outputs": [],
   "source": [
    "columns=['Names','Grades','BS','MS','PhD',\"bdates\"]\n",
    "df = pd.DataFrame(data = GradeList, columns=columns)"
   ]
  },
  {
   "cell_type": "code",
   "execution_count": 6,
   "metadata": {},
   "outputs": [
    {
     "data": {
      "text/html": [
       "<div>\n",
       "<style scoped>\n",
       "    .dataframe tbody tr th:only-of-type {\n",
       "        vertical-align: middle;\n",
       "    }\n",
       "\n",
       "    .dataframe tbody tr th {\n",
       "        vertical-align: top;\n",
       "    }\n",
       "\n",
       "    .dataframe thead th {\n",
       "        text-align: right;\n",
       "    }\n",
       "</style>\n",
       "<table border=\"1\" class=\"dataframe\">\n",
       "  <thead>\n",
       "    <tr style=\"text-align: right;\">\n",
       "      <th></th>\n",
       "      <th>Names</th>\n",
       "      <th>Grades</th>\n",
       "      <th>BS</th>\n",
       "      <th>MS</th>\n",
       "      <th>PhD</th>\n",
       "      <th>bdates</th>\n",
       "    </tr>\n",
       "  </thead>\n",
       "  <tbody>\n",
       "    <tr>\n",
       "      <th>0</th>\n",
       "      <td>Bob</td>\n",
       "      <td>76</td>\n",
       "      <td>1</td>\n",
       "      <td>2</td>\n",
       "      <td>0</td>\n",
       "      <td>1/1/1945</td>\n",
       "    </tr>\n",
       "    <tr>\n",
       "      <th>1</th>\n",
       "      <td>Jessica</td>\n",
       "      <td>95</td>\n",
       "      <td>1</td>\n",
       "      <td>1</td>\n",
       "      <td>1</td>\n",
       "      <td>10/21/76</td>\n",
       "    </tr>\n",
       "    <tr>\n",
       "      <th>2</th>\n",
       "      <td>Mary</td>\n",
       "      <td>77</td>\n",
       "      <td>0</td>\n",
       "      <td>0</td>\n",
       "      <td>0</td>\n",
       "      <td>3/3/90</td>\n",
       "    </tr>\n",
       "    <tr>\n",
       "      <th>3</th>\n",
       "      <td>John</td>\n",
       "      <td>78</td>\n",
       "      <td>0</td>\n",
       "      <td>0</td>\n",
       "      <td>0</td>\n",
       "      <td>04/30/1901</td>\n",
       "    </tr>\n",
       "    <tr>\n",
       "      <th>4</th>\n",
       "      <td>Mel</td>\n",
       "      <td>99</td>\n",
       "      <td>1</td>\n",
       "      <td>0</td>\n",
       "      <td>0</td>\n",
       "      <td>1963-09-01</td>\n",
       "    </tr>\n",
       "  </tbody>\n",
       "</table>\n",
       "</div>"
      ],
      "text/plain": [
       "     Names  Grades  BS  MS  PhD      bdates\n",
       "0      Bob      76   1   2    0    1/1/1945\n",
       "1  Jessica      95   1   1    1    10/21/76\n",
       "2     Mary      77   0   0    0      3/3/90\n",
       "3     John      78   0   0    0  04/30/1901\n",
       "4      Mel      99   1   0    0  1963-09-01"
      ]
     },
     "execution_count": 6,
     "metadata": {},
     "output_type": "execute_result"
    }
   ],
   "source": [
    "df\n"
   ]
  },
  {
   "cell_type": "code",
   "execution_count": 11,
   "metadata": {},
   "outputs": [
    {
     "ename": "SyntaxError",
     "evalue": "invalid syntax (<ipython-input-11-33a341a747eb>, line 23)",
     "output_type": "error",
     "traceback": [
      "\u001b[1;36m  File \u001b[1;32m\"<ipython-input-11-33a341a747eb>\"\u001b[1;36m, line \u001b[1;32m23\u001b[0m\n\u001b[1;33m    else:\u001b[0m\n\u001b[1;37m    ^\u001b[0m\n\u001b[1;31mSyntaxError\u001b[0m\u001b[1;31m:\u001b[0m invalid syntax\n"
     ]
    }
   ],
   "source": [
    "from time import strftime\n",
    "from datetime import datetime\n",
    "def standardize_date(thedate):\n",
    "    formatted_date = \"\"\n",
    "    thedate = str(thedate)\n",
    "if not thedate or thedate.lower() == \"missing\"or thedate == \"nan\":\n",
    "    formatted_date = \"MISSING\"\n",
    "if the_date.lower().find('x') != -1:\n",
    "    formatted_date = \"Incomplete\"\n",
    "if the_date[0:2] == \"00\":\n",
    "    formatted_date = thedate.replace(\"00\", \"19\")\n",
    "try:\n",
    "    formatted_date = str(datetime.strptime(thedate,'%m/%d/%y').strftime('%m/%d/%y'))\n",
    "except:\n",
    "    pass\n",
    "try:\n",
    "    formatted_date = str(datetime.strptime(thedate, '%m/%d/%Y').strftime('%m/%d/%y'))\n",
    "except:\n",
    "    pass\n",
    "try:\n",
    "    if int(the_date[0:4]) < 1900:\n",
    "        formatted_date = \"Incomplete\"\n",
    "else:\n",
    "    formatted_date = str(datetime.strptime(thedate, '%Y-%m-%d')\n",
    "                         .strftime('%m/%d/%y'))\n",
    "except:\n",
    "    pass\n",
    "    return formatted_date"
   ]
  },
  {
   "cell_type": "markdown",
   "metadata": {},
   "source": [
    "#Variable decalaration"
   ]
  },
  {
   "cell_type": "code",
   "execution_count": null,
   "metadata": {},
   "outputs": [],
   "source": [
    "import pandas as pd\n"
   ]
  },
  {
   "cell_type": "code",
   "execution_count": null,
   "metadata": {},
   "outputs": [],
   "source": [
    "print('Hello')"
   ]
  },
  {
   "cell_type": "code",
   "execution_count": null,
   "metadata": {},
   "outputs": [],
   "source": []
  }
 ],
 "metadata": {
  "kernelspec": {
   "display_name": "Python 3",
   "language": "python",
   "name": "python3"
  },
  "language_info": {
   "codemirror_mode": {
    "name": "ipython",
    "version": 3
   },
   "file_extension": ".py",
   "mimetype": "text/x-python",
   "name": "python",
   "nbconvert_exporter": "python",
   "pygments_lexer": "ipython3",
   "version": "3.8.3"
  }
 },
 "nbformat": 4,
 "nbformat_minor": 4
}
