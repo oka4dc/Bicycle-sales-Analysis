{
 "cells": [
  {
   "cell_type": "code",
   "execution_count": 1,
   "metadata": {},
   "outputs": [],
   "source": [
    "# my note book on OOPs concept\n",
    "#The OOPs concept is built based on virtual world solutions\n",
    "\"\"\" characteristics of an object\n",
    "1. Every object has an attribute (Name, age, eye clour) and behaviour (character and what the person can do)\n",
    "\"\"\"\n",
    "\n",
    "    "
   ]
  },
  {
   "cell_type": "code",
   "execution_count": 2,
   "metadata": {},
   "outputs": [
    {
     "name": "stdout",
     "output_type": "stream",
     "text": [
      "NOKIA\n"
     ]
    }
   ],
   "source": [
    "class phone:\n",
    "    print('NOKIA')"
   ]
  },
  {
   "cell_type": "code",
   "execution_count": 1,
   "metadata": {},
   "outputs": [
    {
     "data": {
      "text/plain": [
       "\" class centdoor\\nn cenntdoor has the following object: procurement team, operations team, finance team, Hr unit\\n\\nEach object of the class centdoor has has it's own individual objects \\n\""
      ]
     },
     "execution_count": 1,
     "metadata": {},
     "output_type": "execute_result"
    }
   ],
   "source": [
    "\"\"\" class centdoor\n",
    "n cenntdoor has the following object: procurement team, operations team, finance team, Hr unit\n",
    "\n",
    "Each object of the class centdoor has has it's own individual objects \n",
    "\"\"\""
   ]
  },
  {
   "cell_type": "code",
   "execution_count": 4,
   "metadata": {},
   "outputs": [
    {
     "data": {
      "text/plain": [
       "\"\\nClass human and every human has an object man,woman\\n\\nThe ability of an object to store data is implemented using variables\\n\\nand the ability of an object to exhibit it's behaviour is bin implemented using Methods\\n\""
      ]
     },
     "execution_count": 4,
     "metadata": {},
     "output_type": "execute_result"
    }
   ],
   "source": [
    "\"\"\"\n",
    "Class human and every human has an object man,woman\n",
    "\n",
    "The ability of an object to store data is implemented using variables\n",
    "\n",
    "and the ability of an object to exhibit it's behaviour is bin implemented using Methods\n",
    "\"\"\""
   ]
  },
  {
   "cell_type": "code",
   "execution_count": 5,
   "metadata": {},
   "outputs": [
    {
     "data": {
      "text/plain": [
       "'\\nMethods: are functions delacared within a class\\n\\nA class is a blueprint or design of an object\\n*string *float *int are all in built classes and the all have methonds\\n'"
      ]
     },
     "execution_count": 5,
     "metadata": {},
     "output_type": "execute_result"
    }
   ],
   "source": [
    "\"\"\"\n",
    "Methods: are functions delacared within a class\n",
    "\n",
    "A class is a blueprint or design of an object\n",
    "*string *float *int are all in built classes and the all have methonds\n",
    "\"\"\""
   ]
  },
  {
   "cell_type": "code",
   "execution_count": 6,
   "metadata": {},
   "outputs": [
    {
     "data": {
      "text/plain": [
       "'\\nclass man:\\n    attributes--age, name, height, eyecolour, walk, talk: variables\\n    Behaviors---angry, calm, humble : functions(methods)\\n'"
      ]
     },
     "execution_count": 6,
     "metadata": {},
     "output_type": "execute_result"
    }
   ],
   "source": [
    "\"\"\"\n",
    "class man:\n",
    "    attributes--age, name, height, eyecolour, walk, talk: variables\n",
    "    Behaviors---angry, calm, humble : functions(methods)\n",
    "\"\"\""
   ]
  },
  {
   "cell_type": "code",
   "execution_count": 8,
   "metadata": {},
   "outputs": [
    {
     "name": "stdout",
     "output_type": "stream",
     "text": [
      "<class 'int'>\n"
     ]
    }
   ],
   "source": [
    "a = 2\n",
    "print (type(a))"
   ]
  },
  {
   "cell_type": "code",
   "execution_count": 9,
   "metadata": {},
   "outputs": [
    {
     "name": "stdout",
     "output_type": "stream",
     "text": [
      "<class 'str'>\n"
     ]
    }
   ],
   "source": [
    "My_name = \"Dennis Okafor\"\n",
    "print (type (My_name))"
   ]
  },
  {
   "cell_type": "code",
   "execution_count": 10,
   "metadata": {},
   "outputs": [
    {
     "data": {
      "text/plain": [
       "'dennis okafor'"
      ]
     },
     "execution_count": 10,
     "metadata": {},
     "output_type": "execute_result"
    }
   ],
   "source": [
    "My_name1=My_name.lower()"
   ]
  },
  {
   "cell_type": "code",
   "execution_count": 11,
   "metadata": {},
   "outputs": [
    {
     "name": "stdout",
     "output_type": "stream",
     "text": [
      "<class 'str'>\n"
     ]
    }
   ],
   "source": [
    "print (type(My_name))"
   ]
  },
  {
   "cell_type": "code",
   "execution_count": 12,
   "metadata": {},
   "outputs": [
    {
     "name": "stdout",
     "output_type": "stream",
     "text": [
      "16GB RAM 500HDD\n"
     ]
    }
   ],
   "source": [
    "def config ():\n",
    "    print (\"16GB RAM\", '500HDD')\n",
    "    \n",
    "config()    \n"
   ]
  },
  {
   "cell_type": "code",
   "execution_count": 25,
   "metadata": {},
   "outputs": [
    {
     "ename": "TypeError",
     "evalue": "config() takes 0 positional arguments but 1 was given",
     "output_type": "error",
     "traceback": [
      "\u001b[1;31m---------------------------------------------------------------------------\u001b[0m",
      "\u001b[1;31mTypeError\u001b[0m                                 Traceback (most recent call last)",
      "\u001b[1;32m<ipython-input-25-d4b8b9cd3a7a>\u001b[0m in \u001b[0;36m<module>\u001b[1;34m\u001b[0m\n\u001b[0;32m      7\u001b[0m \u001b[1;31m#print(type (lenovo) )\u001b[0m\u001b[1;33m\u001b[0m\u001b[1;33m\u001b[0m\u001b[1;33m\u001b[0m\u001b[0m\n\u001b[0;32m      8\u001b[0m \u001b[0mlenovo\u001b[0m \u001b[1;33m=\u001b[0m \u001b[0mcomputer\u001b[0m\u001b[1;33m(\u001b[0m\u001b[1;33m)\u001b[0m\u001b[1;33m\u001b[0m\u001b[1;33m\u001b[0m\u001b[0m\n\u001b[1;32m----> 9\u001b[1;33m \u001b[0mcomputer\u001b[0m\u001b[1;33m.\u001b[0m\u001b[0mconfig\u001b[0m\u001b[1;33m(\u001b[0m\u001b[0mlenovo\u001b[0m\u001b[1;33m)\u001b[0m\u001b[1;33m\u001b[0m\u001b[1;33m\u001b[0m\u001b[0m\n\u001b[0m",
      "\u001b[1;31mTypeError\u001b[0m: config() takes 0 positional arguments but 1 was given"
     ]
    }
   ],
   "source": [
    "class computer:\n",
    "    \n",
    "    def config():\n",
    "        print(\"8GB RAM\", \"1 Terabyte\")\n",
    "       \n",
    "#Lenovo =computer.config()\n",
    "#print(type (lenovo) ) \n",
    "lenovo = computer()\n",
    "computer.config(lenovo)"
   ]
  },
  {
   "cell_type": "code",
   "execution_count": 28,
   "metadata": {},
   "outputs": [
    {
     "name": "stdout",
     "output_type": "stream",
     "text": [
      "8GB RAM 1 Terabyte\n",
      "8GB RAM 1 Terabyte\n"
     ]
    }
   ],
   "source": [
    "class computer:\n",
    "    \n",
    "    def config(self):\n",
    "        print(\"8GB RAM\", \"1 Terabyte\")\n",
    "       \n",
    "#Lenovo =computer.config()\n",
    "#print(type (lenovo) ) \n",
    "lenovo = computer()\n",
    "lenovo.config() # using d object itself to call the config\n",
    "computer.config(lenovo) #passing the object direct to the class computer"
   ]
  },
  {
   "cell_type": "code",
   "execution_count": 62,
   "metadata": {},
   "outputs": [
    {
     "name": "stdout",
     "output_type": "stream",
     "text": [
      "<__main__.computer object at 0x000001A0EB8A6280>\n",
      "<__main__.computer object at 0x000001A0EB8A6400>\n"
     ]
    }
   ],
   "source": [
    "# using the init methods or intiatlization\n",
    "#The init method is called automatically for every object\n",
    "class computer:\n",
    "    \n",
    "    def __init__(self, cpu, RAM):\n",
    "       # print (\"A powerful machine\")\n",
    "        self.cpu = cpu\n",
    "        self.RAM = RAM\n",
    "    def config():\n",
    "        print (\"18GB RAN\")\n",
    "#lenovo = computer()  object instatiation or calling of the object lenovo\n",
    "Hp = computer('core i3', 8)\n",
    "Acer = computer('core i7', 16)\n",
    "\n",
    "\n",
    "# passing parameters to a object"
   ]
  },
  {
   "cell_type": "code",
   "execution_count": 76,
   "metadata": {},
   "outputs": [
    {
     "name": "stdout",
     "output_type": "stream",
     "text": [
      "The system config is core i3 8 15inch\n",
      "The system config is core i7 16 14inch\n"
     ]
    }
   ],
   "source": [
    "# using the init methods or intiatlization\n",
    "#The init method is called automatically for every object\n",
    "class computer:\n",
    "    \n",
    "    def __init__(self, cpu, ram, screen_size):\n",
    "        self.cpu = cpu\n",
    "        self.ram = ram\n",
    "        self.screen_size = screen_size\n",
    "        \n",
    " # A function defined inside a class is known as METHOD       \n",
    "    def config(self):\n",
    "        print (\"The system config is\", self.cpu, self.ram, self.screen_size)\n",
    "\n",
    "\n",
    "Hp = computer('core i3', 8, '15inch')\n",
    "Acer = computer('core i7', 16,'14inch')\n",
    "\n",
    "               \n",
    "Hp.config()\n",
    "Acer.config()\n",
    "\n",
    "# passing parameters to a object"
   ]
  },
  {
   "cell_type": "code",
   "execution_count": null,
   "metadata": {},
   "outputs": [],
   "source": [
    "# use of constructor and self\n",
    "# The code below shows different objects in space\n",
    "class computer:\n",
    "    pass\n",
    "\n",
    "lenovo = computer()\n",
    "Hp = computer()\n",
    "Acer = computer()\n",
    "Dell = computer()\n",
    "\n",
    "print (id (lenovo))\n",
    "print (id (Hp))\n",
    "print (id (Acer))\n",
    "print (id (Dell))\n",
    "# The output is the address of the object in the memory (Heap memory)\n",
    "# The different object instantiated will then interact to solve a particular problem"
   ]
  },
  {
   "cell_type": "code",
   "execution_count": null,
   "metadata": {},
   "outputs": [],
   "source": []
  }
 ],
 "metadata": {
  "kernelspec": {
   "display_name": "Python 3",
   "language": "python",
   "name": "python3"
  },
  "language_info": {
   "codemirror_mode": {
    "name": "ipython",
    "version": 3
   },
   "file_extension": ".py",
   "mimetype": "text/x-python",
   "name": "python",
   "nbconvert_exporter": "python",
   "pygments_lexer": "ipython3",
   "version": "3.8.3"
  }
 },
 "nbformat": 4,
 "nbformat_minor": 4
}
